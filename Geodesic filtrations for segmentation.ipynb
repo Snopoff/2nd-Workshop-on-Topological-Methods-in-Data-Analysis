{
 "cells": [
  {
   "cell_type": "markdown",
   "id": "0e080099-8794-4ef8-9977-503f542cbad4",
   "metadata": {},
   "source": [
    "# Geodesic filtrations for segmentation"
   ]
  },
  {
   "cell_type": "markdown",
   "id": "759bbac8-d409-413d-a6b8-2ab590032987",
   "metadata": {},
   "source": [
    "The purpose of this project is to perform simple topological optimization tasks. For this,\n",
    "gradient descent will be used on persistence diagrams in order to solve specific regularization\n",
    "problems, such as moving points around so that they form loops, or preventing classifiers to\n",
    "overfit. The effect of using different types of losses will also be studied."
   ]
  },
  {
   "cell_type": "code",
   "execution_count": null,
   "id": "b7d323be-0508-4796-836e-74124a964225",
   "metadata": {},
   "outputs": [],
   "source": []
  }
 ],
 "metadata": {
  "kernelspec": {
   "display_name": "Python 3",
   "language": "python",
   "name": "python3"
  },
  "language_info": {
   "codemirror_mode": {
    "name": "ipython",
    "version": 3
   },
   "file_extension": ".py",
   "mimetype": "text/x-python",
   "name": "python",
   "nbconvert_exporter": "python",
   "pygments_lexer": "ipython3",
   "version": "3.9.7"
  }
 },
 "nbformat": 4,
 "nbformat_minor": 5
}
