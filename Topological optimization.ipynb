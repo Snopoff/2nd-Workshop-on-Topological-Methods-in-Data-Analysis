{
 "cells": [
  {
   "cell_type": "markdown",
   "id": "064f23a1-d890-4166-9ec2-11a46b8bf4be",
   "metadata": {},
   "source": [
    "# Topological optimization"
   ]
  },
  {
   "cell_type": "markdown",
   "id": "c8b553ee-d668-47bd-abbe-272b51902c3d",
   "metadata": {},
   "source": [
    "The purpose of this project is to perform simple topological optimization tasks. For this,\n",
    "gradient descent will be used on persistence diagrams in order to solve specific regularization\n",
    "problems, such as moving points around so that they form loops, or preventing classifiers to\n",
    "overfit. The effect of using different types of losses will also be studied."
   ]
  },
  {
   "cell_type": "code",
   "execution_count": null,
   "id": "7dd9d3df-92e2-491e-bb13-6ca589ba2607",
   "metadata": {},
   "outputs": [],
   "source": []
  }
 ],
 "metadata": {
  "kernelspec": {
   "display_name": "Python 3",
   "language": "python",
   "name": "python3"
  },
  "language_info": {
   "codemirror_mode": {
    "name": "ipython",
    "version": 3
   },
   "file_extension": ".py",
   "mimetype": "text/x-python",
   "name": "python",
   "nbconvert_exporter": "python",
   "pygments_lexer": "ipython3",
   "version": "3.9.7"
  }
 },
 "nbformat": 4,
 "nbformat_minor": 5
}
